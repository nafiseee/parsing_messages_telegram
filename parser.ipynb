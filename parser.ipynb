{
 "cells": [
  {
   "cell_type": "code",
   "execution_count": 90,
   "id": "5f5dc682-a4da-4f60-9299-b297a987701e",
   "metadata": {},
   "outputs": [],
   "source": [
    "import regex, os\n",
    "from bs4 import BeautifulSoup\n",
    "import pandas as pd\n",
    "files = os.listdir('messages/')\n",
    "messages = []\n",
    "for filename in files:\n",
    "    with open(f'messages/{filename}','r',encoding='utf8') as f:\n",
    "        soup = BeautifulSoup (f, 'html.parser')\n",
    "        divs = soup.find_all('div',class_=\"message default clearfix\")\n",
    "        for i in divs:\n",
    "            message_div =  BeautifulSoup (str(i), 'html.parser')\n",
    "            text = message_div.find('div',class_='text')\n",
    "            name = message_div.find('div',class_='from_name')\n",
    "            date = message_div.find('div',class_='pull_right date details')\n",
    "\n",
    "            if None not in (name,text):\n",
    "                messages.append((date.get('title'),name.get_text().strip(),text.get_text().strip()))\n",
    "df = pd.DataFrame(messages,columns = ('date','nickname','message_text'))\n",
    "df.to_csv('handpoke_messages')\n"
   ]
  },
  {
   "cell_type": "code",
   "execution_count": 89,
   "id": "96ae6a2e",
   "metadata": {},
   "outputs": [],
   "source": [
    "\n"
   ]
  }
 ],
 "metadata": {
  "kernelspec": {
   "display_name": "Python 3 (ipykernel)",
   "language": "python",
   "name": "python3"
  },
  "language_info": {
   "codemirror_mode": {
    "name": "ipython",
    "version": 3
   },
   "file_extension": ".py",
   "mimetype": "text/x-python",
   "name": "python",
   "nbconvert_exporter": "python",
   "pygments_lexer": "ipython3",
   "version": "3.11.4"
  }
 },
 "nbformat": 4,
 "nbformat_minor": 5
}
